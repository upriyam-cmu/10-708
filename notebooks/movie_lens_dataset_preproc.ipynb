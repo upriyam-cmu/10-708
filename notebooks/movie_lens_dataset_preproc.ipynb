{
  "nbformat": 4,
  "nbformat_minor": 0,
  "metadata": {
    "colab": {
      "provenance": [],
      "mount_file_id": "1F-Ag9L94DA0XrPQImBc-3-Qs5yl189nV",
      "authorship_tag": "ABX9TyN7625rjGxekpQc6wfZyFAM",
      "include_colab_link": true
    },
    "kernelspec": {
      "name": "python3",
      "display_name": "Python 3"
    },
    "language_info": {
      "name": "python"
    }
  },
  "cells": [
    {
      "cell_type": "markdown",
      "metadata": {
        "id": "view-in-github",
        "colab_type": "text"
      },
      "source": [
        "<a href=\"https://colab.research.google.com/github/upriyam-cmu/10-708/blob/main/notebooks/movie_lens_dataset_preproc.ipynb\" target=\"_parent\"><img src=\"https://colab.research.google.com/assets/colab-badge.svg\" alt=\"Open In Colab\"/></a>"
      ]
    },
    {
      "cell_type": "code",
      "source": [
        "! pip install torch_geometric\n",
        "! pip install sentence_transformers"
      ],
      "metadata": {
        "colab": {
          "base_uri": "https://localhost:8080/"
        },
        "id": "ZlO9IMlZuM04",
        "outputId": "d26f59f4-5e2b-4a2d-d120-bbfe408613c6"
      },
      "execution_count": 78,
      "outputs": [
        {
          "output_type": "stream",
          "name": "stdout",
          "text": [
            "Requirement already satisfied: torch_geometric in /usr/local/lib/python3.10/dist-packages (2.5.3)\n",
            "Requirement already satisfied: tqdm in /usr/local/lib/python3.10/dist-packages (from torch_geometric) (4.66.2)\n",
            "Requirement already satisfied: numpy in /usr/local/lib/python3.10/dist-packages (from torch_geometric) (1.25.2)\n",
            "Requirement already satisfied: scipy in /usr/local/lib/python3.10/dist-packages (from torch_geometric) (1.11.4)\n",
            "Requirement already satisfied: fsspec in /usr/local/lib/python3.10/dist-packages (from torch_geometric) (2023.6.0)\n",
            "Requirement already satisfied: jinja2 in /usr/local/lib/python3.10/dist-packages (from torch_geometric) (3.1.3)\n",
            "Requirement already satisfied: aiohttp in /usr/local/lib/python3.10/dist-packages (from torch_geometric) (3.9.5)\n",
            "Requirement already satisfied: requests in /usr/local/lib/python3.10/dist-packages (from torch_geometric) (2.31.0)\n",
            "Requirement already satisfied: pyparsing in /usr/local/lib/python3.10/dist-packages (from torch_geometric) (3.1.2)\n",
            "Requirement already satisfied: scikit-learn in /usr/local/lib/python3.10/dist-packages (from torch_geometric) (1.2.2)\n",
            "Requirement already satisfied: psutil>=5.8.0 in /usr/local/lib/python3.10/dist-packages (from torch_geometric) (5.9.5)\n",
            "Requirement already satisfied: aiosignal>=1.1.2 in /usr/local/lib/python3.10/dist-packages (from aiohttp->torch_geometric) (1.3.1)\n",
            "Requirement already satisfied: attrs>=17.3.0 in /usr/local/lib/python3.10/dist-packages (from aiohttp->torch_geometric) (23.2.0)\n",
            "Requirement already satisfied: frozenlist>=1.1.1 in /usr/local/lib/python3.10/dist-packages (from aiohttp->torch_geometric) (1.4.1)\n",
            "Requirement already satisfied: multidict<7.0,>=4.5 in /usr/local/lib/python3.10/dist-packages (from aiohttp->torch_geometric) (6.0.5)\n",
            "Requirement already satisfied: yarl<2.0,>=1.0 in /usr/local/lib/python3.10/dist-packages (from aiohttp->torch_geometric) (1.9.4)\n",
            "Requirement already satisfied: async-timeout<5.0,>=4.0 in /usr/local/lib/python3.10/dist-packages (from aiohttp->torch_geometric) (4.0.3)\n",
            "Requirement already satisfied: MarkupSafe>=2.0 in /usr/local/lib/python3.10/dist-packages (from jinja2->torch_geometric) (2.1.5)\n",
            "Requirement already satisfied: charset-normalizer<4,>=2 in /usr/local/lib/python3.10/dist-packages (from requests->torch_geometric) (3.3.2)\n",
            "Requirement already satisfied: idna<4,>=2.5 in /usr/local/lib/python3.10/dist-packages (from requests->torch_geometric) (3.7)\n",
            "Requirement already satisfied: urllib3<3,>=1.21.1 in /usr/local/lib/python3.10/dist-packages (from requests->torch_geometric) (2.0.7)\n",
            "Requirement already satisfied: certifi>=2017.4.17 in /usr/local/lib/python3.10/dist-packages (from requests->torch_geometric) (2024.2.2)\n",
            "Requirement already satisfied: joblib>=1.1.1 in /usr/local/lib/python3.10/dist-packages (from scikit-learn->torch_geometric) (1.4.0)\n",
            "Requirement already satisfied: threadpoolctl>=2.0.0 in /usr/local/lib/python3.10/dist-packages (from scikit-learn->torch_geometric) (3.4.0)\n",
            "Requirement already satisfied: sentence_transformers in /usr/local/lib/python3.10/dist-packages (2.7.0)\n",
            "Requirement already satisfied: transformers<5.0.0,>=4.34.0 in /usr/local/lib/python3.10/dist-packages (from sentence_transformers) (4.40.0)\n",
            "Requirement already satisfied: tqdm in /usr/local/lib/python3.10/dist-packages (from sentence_transformers) (4.66.2)\n",
            "Requirement already satisfied: torch>=1.11.0 in /usr/local/lib/python3.10/dist-packages (from sentence_transformers) (2.2.1+cu121)\n",
            "Requirement already satisfied: numpy in /usr/local/lib/python3.10/dist-packages (from sentence_transformers) (1.25.2)\n",
            "Requirement already satisfied: scikit-learn in /usr/local/lib/python3.10/dist-packages (from sentence_transformers) (1.2.2)\n",
            "Requirement already satisfied: scipy in /usr/local/lib/python3.10/dist-packages (from sentence_transformers) (1.11.4)\n",
            "Requirement already satisfied: huggingface-hub>=0.15.1 in /usr/local/lib/python3.10/dist-packages (from sentence_transformers) (0.20.3)\n",
            "Requirement already satisfied: Pillow in /usr/local/lib/python3.10/dist-packages (from sentence_transformers) (9.4.0)\n",
            "Requirement already satisfied: filelock in /usr/local/lib/python3.10/dist-packages (from huggingface-hub>=0.15.1->sentence_transformers) (3.13.4)\n",
            "Requirement already satisfied: fsspec>=2023.5.0 in /usr/local/lib/python3.10/dist-packages (from huggingface-hub>=0.15.1->sentence_transformers) (2023.6.0)\n",
            "Requirement already satisfied: requests in /usr/local/lib/python3.10/dist-packages (from huggingface-hub>=0.15.1->sentence_transformers) (2.31.0)\n",
            "Requirement already satisfied: pyyaml>=5.1 in /usr/local/lib/python3.10/dist-packages (from huggingface-hub>=0.15.1->sentence_transformers) (6.0.1)\n",
            "Requirement already satisfied: typing-extensions>=3.7.4.3 in /usr/local/lib/python3.10/dist-packages (from huggingface-hub>=0.15.1->sentence_transformers) (4.11.0)\n",
            "Requirement already satisfied: packaging>=20.9 in /usr/local/lib/python3.10/dist-packages (from huggingface-hub>=0.15.1->sentence_transformers) (24.0)\n",
            "Requirement already satisfied: sympy in /usr/local/lib/python3.10/dist-packages (from torch>=1.11.0->sentence_transformers) (1.12)\n",
            "Requirement already satisfied: networkx in /usr/local/lib/python3.10/dist-packages (from torch>=1.11.0->sentence_transformers) (3.3)\n",
            "Requirement already satisfied: jinja2 in /usr/local/lib/python3.10/dist-packages (from torch>=1.11.0->sentence_transformers) (3.1.3)\n",
            "Requirement already satisfied: nvidia-cuda-nvrtc-cu12==12.1.105 in /usr/local/lib/python3.10/dist-packages (from torch>=1.11.0->sentence_transformers) (12.1.105)\n",
            "Requirement already satisfied: nvidia-cuda-runtime-cu12==12.1.105 in /usr/local/lib/python3.10/dist-packages (from torch>=1.11.0->sentence_transformers) (12.1.105)\n",
            "Requirement already satisfied: nvidia-cuda-cupti-cu12==12.1.105 in /usr/local/lib/python3.10/dist-packages (from torch>=1.11.0->sentence_transformers) (12.1.105)\n",
            "Requirement already satisfied: nvidia-cudnn-cu12==8.9.2.26 in /usr/local/lib/python3.10/dist-packages (from torch>=1.11.0->sentence_transformers) (8.9.2.26)\n",
            "Requirement already satisfied: nvidia-cublas-cu12==12.1.3.1 in /usr/local/lib/python3.10/dist-packages (from torch>=1.11.0->sentence_transformers) (12.1.3.1)\n",
            "Requirement already satisfied: nvidia-cufft-cu12==11.0.2.54 in /usr/local/lib/python3.10/dist-packages (from torch>=1.11.0->sentence_transformers) (11.0.2.54)\n",
            "Requirement already satisfied: nvidia-curand-cu12==10.3.2.106 in /usr/local/lib/python3.10/dist-packages (from torch>=1.11.0->sentence_transformers) (10.3.2.106)\n",
            "Requirement already satisfied: nvidia-cusolver-cu12==11.4.5.107 in /usr/local/lib/python3.10/dist-packages (from torch>=1.11.0->sentence_transformers) (11.4.5.107)\n",
            "Requirement already satisfied: nvidia-cusparse-cu12==12.1.0.106 in /usr/local/lib/python3.10/dist-packages (from torch>=1.11.0->sentence_transformers) (12.1.0.106)\n",
            "Requirement already satisfied: nvidia-nccl-cu12==2.19.3 in /usr/local/lib/python3.10/dist-packages (from torch>=1.11.0->sentence_transformers) (2.19.3)\n",
            "Requirement already satisfied: nvidia-nvtx-cu12==12.1.105 in /usr/local/lib/python3.10/dist-packages (from torch>=1.11.0->sentence_transformers) (12.1.105)\n",
            "Requirement already satisfied: triton==2.2.0 in /usr/local/lib/python3.10/dist-packages (from torch>=1.11.0->sentence_transformers) (2.2.0)\n",
            "Requirement already satisfied: nvidia-nvjitlink-cu12 in /usr/local/lib/python3.10/dist-packages (from nvidia-cusolver-cu12==11.4.5.107->torch>=1.11.0->sentence_transformers) (12.4.127)\n",
            "Requirement already satisfied: regex!=2019.12.17 in /usr/local/lib/python3.10/dist-packages (from transformers<5.0.0,>=4.34.0->sentence_transformers) (2023.12.25)\n",
            "Requirement already satisfied: tokenizers<0.20,>=0.19 in /usr/local/lib/python3.10/dist-packages (from transformers<5.0.0,>=4.34.0->sentence_transformers) (0.19.1)\n",
            "Requirement already satisfied: safetensors>=0.4.1 in /usr/local/lib/python3.10/dist-packages (from transformers<5.0.0,>=4.34.0->sentence_transformers) (0.4.3)\n",
            "Requirement already satisfied: joblib>=1.1.1 in /usr/local/lib/python3.10/dist-packages (from scikit-learn->sentence_transformers) (1.4.0)\n",
            "Requirement already satisfied: threadpoolctl>=2.0.0 in /usr/local/lib/python3.10/dist-packages (from scikit-learn->sentence_transformers) (3.4.0)\n",
            "Requirement already satisfied: MarkupSafe>=2.0 in /usr/local/lib/python3.10/dist-packages (from jinja2->torch>=1.11.0->sentence_transformers) (2.1.5)\n",
            "Requirement already satisfied: charset-normalizer<4,>=2 in /usr/local/lib/python3.10/dist-packages (from requests->huggingface-hub>=0.15.1->sentence_transformers) (3.3.2)\n",
            "Requirement already satisfied: idna<4,>=2.5 in /usr/local/lib/python3.10/dist-packages (from requests->huggingface-hub>=0.15.1->sentence_transformers) (3.7)\n",
            "Requirement already satisfied: urllib3<3,>=1.21.1 in /usr/local/lib/python3.10/dist-packages (from requests->huggingface-hub>=0.15.1->sentence_transformers) (2.0.7)\n",
            "Requirement already satisfied: certifi>=2017.4.17 in /usr/local/lib/python3.10/dist-packages (from requests->huggingface-hub>=0.15.1->sentence_transformers) (2024.2.2)\n",
            "Requirement already satisfied: mpmath>=0.19 in /usr/local/lib/python3.10/dist-packages (from sympy->torch>=1.11.0->sentence_transformers) (1.3.0)\n"
          ]
        }
      ]
    },
    {
      "cell_type": "code",
      "execution_count": 74,
      "metadata": {
        "id": "4ZsOR9yit_7Z"
      },
      "outputs": [],
      "source": [
        "import torch\n",
        "import numpy as np\n",
        "import pandas as pd\n",
        "from torch.utils.data import Dataset\n",
        "from torch_geometric.datasets import MovieLens1M\n",
        "from sklearn.preprocessing import QuantileTransformer"
      ]
    },
    {
      "cell_type": "code",
      "source": [
        "ml_1m = MovieLens1M(\"/content/movie_lens\")\n",
        "ml_1m.process()"
      ],
      "metadata": {
        "id": "iQQgzw9cuKm3"
      },
      "execution_count": 76,
      "outputs": []
    },
    {
      "cell_type": "code",
      "source": [
        "processed_data = torch.load(\"/content/movie_lens/processed/data.pt\")"
      ],
      "metadata": {
        "id": "WlH2Xiosw0hn"
      },
      "execution_count": 134,
      "outputs": []
    },
    {
      "cell_type": "code",
      "source": [
        "processed_data"
      ],
      "metadata": {
        "colab": {
          "base_uri": "https://localhost:8080/"
        },
        "id": "sMmw4GkkM9n2",
        "outputId": "62bc3d18-a271-4b60-bbec-4fc5487a2e37"
      },
      "execution_count": 135,
      "outputs": [
        {
          "output_type": "execute_result",
          "data": {
            "text/plain": [
              "({'_global_store': {},\n",
              "  'movie': {'x': tensor([[0., 0., 1.,  ..., 0., 0., 0.],\n",
              "           [0., 1., 0.,  ..., 0., 0., 0.],\n",
              "           [0., 0., 0.,  ..., 0., 0., 0.],\n",
              "           ...,\n",
              "           [0., 0., 0.,  ..., 0., 0., 0.],\n",
              "           [0., 0., 0.,  ..., 0., 0., 0.],\n",
              "           [0., 0., 0.,  ..., 1., 0., 0.]])},\n",
              "  'user': {'x': tensor([[1., 0., 0.,  ..., 0., 0., 0.],\n",
              "           [0., 0., 0.,  ..., 0., 0., 0.],\n",
              "           [0., 0., 1.,  ..., 0., 0., 0.],\n",
              "           ...,\n",
              "           [0., 0., 0.,  ..., 0., 0., 0.],\n",
              "           [0., 0., 0.,  ..., 0., 0., 0.],\n",
              "           [0., 0., 1.,  ..., 0., 0., 0.]])},\n",
              "  ('user',\n",
              "   'rates',\n",
              "   'movie'): {'edge_index': tensor([[   0,    0,    0,  ..., 6039, 6039, 6039],\n",
              "           [1176,  655,  902,  ...,  558, 1080, 1081]]), 'rating': tensor([5, 3, 3,  ..., 5, 4, 4]), 'time': tensor([978300760, 978302109, 978301968,  ..., 956704746, 956715648,\n",
              "           956715569])},\n",
              "  ('movie',\n",
              "   'rated_by',\n",
              "   'user'): {'edge_index': tensor([[1176,  655,  902,  ...,  558, 1080, 1081],\n",
              "           [   0,    0,    0,  ..., 6039, 6039, 6039]]), 'rating': tensor([5, 3, 3,  ..., 5, 4, 4]), 'time': tensor([978300760, 978302109, 978301968,  ..., 956704746, 956715648,\n",
              "           956715569])}},\n",
              " None,\n",
              " torch_geometric.data.hetero_data.HeteroData)"
            ]
          },
          "metadata": {},
          "execution_count": 135
        }
      ]
    },
    {
      "cell_type": "code",
      "source": [
        "processed_data[0]"
      ],
      "metadata": {
        "colab": {
          "base_uri": "https://localhost:8080/"
        },
        "id": "dGM180T33--r",
        "outputId": "abf028a6-0064-4b33-9674-a4bbc17359f4"
      },
      "execution_count": 136,
      "outputs": [
        {
          "output_type": "execute_result",
          "data": {
            "text/plain": [
              "{'_global_store': {},\n",
              " 'movie': {'x': tensor([[0., 0., 1.,  ..., 0., 0., 0.],\n",
              "          [0., 1., 0.,  ..., 0., 0., 0.],\n",
              "          [0., 0., 0.,  ..., 0., 0., 0.],\n",
              "          ...,\n",
              "          [0., 0., 0.,  ..., 0., 0., 0.],\n",
              "          [0., 0., 0.,  ..., 0., 0., 0.],\n",
              "          [0., 0., 0.,  ..., 1., 0., 0.]])},\n",
              " 'user': {'x': tensor([[1., 0., 0.,  ..., 0., 0., 0.],\n",
              "          [0., 0., 0.,  ..., 0., 0., 0.],\n",
              "          [0., 0., 1.,  ..., 0., 0., 0.],\n",
              "          ...,\n",
              "          [0., 0., 0.,  ..., 0., 0., 0.],\n",
              "          [0., 0., 0.,  ..., 0., 0., 0.],\n",
              "          [0., 0., 1.,  ..., 0., 0., 0.]])},\n",
              " ('user',\n",
              "  'rates',\n",
              "  'movie'): {'edge_index': tensor([[   0,    0,    0,  ..., 6039, 6039, 6039],\n",
              "          [1176,  655,  902,  ...,  558, 1080, 1081]]), 'rating': tensor([5, 3, 3,  ..., 5, 4, 4]), 'time': tensor([978300760, 978302109, 978301968,  ..., 956704746, 956715648,\n",
              "          956715569])},\n",
              " ('movie',\n",
              "  'rated_by',\n",
              "  'user'): {'edge_index': tensor([[1176,  655,  902,  ...,  558, 1080, 1081],\n",
              "          [   0,    0,    0,  ..., 6039, 6039, 6039]]), 'rating': tensor([5, 3, 3,  ..., 5, 4, 4]), 'time': tensor([978300760, 978302109, 978301968,  ..., 956704746, 956715648,\n",
              "          956715569])}}"
            ]
          },
          "metadata": {},
          "execution_count": 136
        }
      ]
    },
    {
      "cell_type": "code",
      "source": [
        "processed_data[0][\"user\"][\"x\"]"
      ],
      "metadata": {
        "colab": {
          "base_uri": "https://localhost:8080/"
        },
        "id": "XGEiONI7TZAU",
        "outputId": "1c4368f2-18f3-4c9d-c303-344ca777d20e"
      },
      "execution_count": 137,
      "outputs": [
        {
          "output_type": "execute_result",
          "data": {
            "text/plain": [
              "tensor([[1., 0., 0.,  ..., 0., 0., 0.],\n",
              "        [0., 0., 0.,  ..., 0., 0., 0.],\n",
              "        [0., 0., 1.,  ..., 0., 0., 0.],\n",
              "        ...,\n",
              "        [0., 0., 0.,  ..., 0., 0., 0.],\n",
              "        [0., 0., 0.,  ..., 0., 0., 0.],\n",
              "        [0., 0., 1.,  ..., 0., 0., 0.]])"
            ]
          },
          "metadata": {},
          "execution_count": 137
        }
      ]
    },
    {
      "cell_type": "code",
      "source": [],
      "metadata": {
        "id": "m5M62PwcTZDD"
      },
      "execution_count": null,
      "outputs": []
    },
    {
      "cell_type": "code",
      "source": [
        "! ls movie_lens/processed"
      ],
      "metadata": {
        "colab": {
          "base_uri": "https://localhost:8080/"
        },
        "id": "Tl5PD7mj3tk7",
        "outputId": "301452e2-9e8d-436a-df4e-c274b5c90be5"
      },
      "execution_count": null,
      "outputs": [
        {
          "output_type": "stream",
          "name": "stdout",
          "text": [
            "data.pt  pre_filter.pt\tpre_transform.pt\n"
          ]
        }
      ]
    },
    {
      "cell_type": "code",
      "source": [
        "ml_1m[0]"
      ],
      "metadata": {
        "colab": {
          "base_uri": "https://localhost:8080/",
          "height": 0
        },
        "id": "9KyrpHDtxzCx",
        "outputId": "0a4d8686-5584-41fa-bb07-88f628b1d42a"
      },
      "execution_count": 7,
      "outputs": [
        {
          "output_type": "execute_result",
          "data": {
            "text/plain": [
              "HeteroData(\n",
              "  movie={ x=[3883, 18] },\n",
              "  user={ x=[6040, 30] },\n",
              "  (user, rates, movie)={\n",
              "    edge_index=[2, 1000209],\n",
              "    rating=[1000209],\n",
              "    time=[1000209],\n",
              "  },\n",
              "  (movie, rated_by, user)={\n",
              "    edge_index=[2, 1000209],\n",
              "    rating=[1000209],\n",
              "    time=[1000209],\n",
              "  }\n",
              ")"
            ]
          },
          "metadata": {},
          "execution_count": 7
        }
      ]
    },
    {
      "cell_type": "code",
      "source": [
        "edges = processed_data[0][('user','rates','movie')]"
      ],
      "metadata": {
        "id": "j1hjyC7bFLPd"
      },
      "execution_count": 138,
      "outputs": []
    },
    {
      "cell_type": "code",
      "source": [
        "edge_ratings = torch.concatenate([edges[\"edge_index\"], edges[\"rating\"].reshape((1,-1))])"
      ],
      "metadata": {
        "id": "bV2CDJFLFcC_"
      },
      "execution_count": 139,
      "outputs": []
    },
    {
      "cell_type": "code",
      "source": [
        "edge_ratings.shape"
      ],
      "metadata": {
        "colab": {
          "base_uri": "https://localhost:8080/"
        },
        "id": "gVYElPCGIJqu",
        "outputId": "58b3a2b0-5cc9-4d6c-b2cc-2483ffa9dfd9"
      },
      "execution_count": 140,
      "outputs": [
        {
          "output_type": "execute_result",
          "data": {
            "text/plain": [
              "torch.Size([3, 1000209])"
            ]
          },
          "metadata": {},
          "execution_count": 140
        }
      ]
    },
    {
      "cell_type": "code",
      "source": [
        "import matplotlib.pyplot as plt\n",
        "\n",
        "ratings = edge_ratings[2,:]\n",
        "plt.hist(ratings, bins=5)"
      ],
      "metadata": {
        "colab": {
          "base_uri": "https://localhost:8080/",
          "height": 482
        },
        "id": "oQaCYSYm7jpO",
        "outputId": "6a12dc26-2dcd-4fe3-dfb8-d3c4ec14a4c6"
      },
      "execution_count": 22,
      "outputs": [
        {
          "output_type": "execute_result",
          "data": {
            "text/plain": [
              "(array([ 56174., 107557., 261197., 348971., 226310.]),\n",
              " array([1. , 1.8, 2.6, 3.4, 4.2, 5. ]),\n",
              " <BarContainer object of 5 artists>)"
            ]
          },
          "metadata": {},
          "execution_count": 22
        },
        {
          "output_type": "display_data",
          "data": {
            "text/plain": [
              "<Figure size 640x480 with 1 Axes>"
            ],
            "image/png": "[encoded data removed]"
          },
          "metadata": {}
        }
      ]
    },
    {
      "cell_type": "code",
      "source": [
        "def naive_transform(ratings):\n",
        "    empirical_quantiles = ecdf(ratings).cdf.probabilities\n",
        "    return 2*empirical_quantiles[ratings] - 1\n",
        "\n",
        "qt_transformer = QuantileTransformer(n_quantiles=5, output_distribution=\"normal\")\n",
        "edge_ratings[-1,:] = torch.Tensor(qt_transformer.fit_transform(ratings.reshape(-1, 1))).T"
      ],
      "metadata": {
        "id": "P8FEEMtOAcxe"
      },
      "execution_count": 141,
      "outputs": []
    },
    {
      "cell_type": "code",
      "source": [
        "plt.hist(edge_ratings[-1,:])"
      ],
      "metadata": {
        "colab": {
          "base_uri": "https://localhost:8080/",
          "height": 499
        },
        "id": "Wl46YXOhIiri",
        "outputId": "bcaab2c2-c47f-482a-9388-c9ee0d7805a3"
      },
      "execution_count": 142,
      "outputs": [
        {
          "output_type": "execute_result",
          "data": {
            "text/plain": [
              "(array([ 56174.,      0.,      0.,      0.,      0., 717725.,      0.,\n",
              "             0.,      0., 226310.]),\n",
              " array([-5., -4., -3., -2., -1.,  0.,  1.,  2.,  3.,  4.,  5.]),\n",
              " <BarContainer object of 10 artists>)"
            ]
          },
          "metadata": {},
          "execution_count": 142
        },
        {
          "output_type": "display_data",
          "data": {
            "text/plain": [
              "<Figure size 640x480 with 1 Axes>"
            ],
            "image/png": "[encoded data removed]"
          },
          "metadata": {}
        }
      ]
    },
    {
      "cell_type": "code",
      "source": [
        "plt.hist(2*empirical_quantiles[ratings-1] - 1)"
      ],
      "metadata": {
        "colab": {
          "base_uri": "https://localhost:8080/",
          "height": 534
        },
        "id": "K_C9fh3eCPp2",
        "outputId": "2cccc3a0-cd26-4589-f04c-87e0b92c2dbe"
      },
      "execution_count": 40,
      "outputs": [
        {
          "output_type": "execute_result",
          "data": {
            "text/plain": [
              "(array([ 56174., 107557.,      0., 261197.,      0.,      0.,      0.,\n",
              "        348971.,      0., 226310.]),\n",
              " array([-0.88767548, -0.69890793, -0.51014038, -0.32137283, -0.13260529,\n",
              "         0.05616226,  0.24492981,  0.43369736,  0.6224649 ,  0.81123245,\n",
              "         1.        ]),\n",
              " <BarContainer object of 10 artists>)"
            ]
          },
          "metadata": {},
          "execution_count": 40
        },
        {
          "output_type": "display_data",
          "data": {
            "text/plain": [
              "<Figure size 640x480 with 1 Axes>"
            ],
            "image/png": "[encoded data removed]"
          },
          "metadata": {}
        }
      ]
    },
    {
      "cell_type": "code",
      "source": [
        "ratings.numpy().mean()"
      ],
      "metadata": {
        "colab": {
          "base_uri": "https://localhost:8080/",
          "height": 0
        },
        "id": "bXpP60P177GW",
        "outputId": "36141d9b-4470-4110-ad83-f5be3787aaf6"
      },
      "execution_count": 27,
      "outputs": [
        {
          "output_type": "execute_result",
          "data": {
            "text/plain": [
              "3.581564453029317"
            ]
          },
          "metadata": {},
          "execution_count": 27
        }
      ]
    },
    {
      "cell_type": "code",
      "source": [
        "_, edge_size = edge_ratings.shape\n",
        "indices = torch.randint(0, edge_size, (10,))\n",
        "sampled_edges = torch.ones((1,1))\n",
        "while len(sampled_edges[0, :].unique()) < 10 or len(sampled_edges[1, :].unique()) < 10:\n",
        "    indices = torch.randint(0, edge_size, (10,))\n",
        "    sampled_edges = edge_ratings[:, indices]"
      ],
      "metadata": {
        "id": "mC33iHBCGH3t"
      },
      "execution_count": 66,
      "outputs": []
    },
    {
      "cell_type": "code",
      "source": [
        "xs = edge_ratings[0, indices]\n",
        "ys = edge_ratings[1, indices]"
      ],
      "metadata": {
        "id": "fhyI-khni1Kf"
      },
      "execution_count": 67,
      "outputs": []
    },
    {
      "cell_type": "code",
      "source": [
        "indices_xs = torch.where(torch.isin(edge_ratings[0,:], xs))[0]\n",
        "indices_ys = torch.where(torch.isin(edge_ratings[1,:], ys))[0]\n",
        "subsample_edges = edge_ratings[:, np.intersect1d(indices_xs, indices_ys)].T #TODO: Check if this results in less than 10 users/movie and fill spots"
      ],
      "metadata": {
        "id": "zwItR1jYtqX0"
      },
      "execution_count": 68,
      "outputs": []
    },
    {
      "cell_type": "code",
      "source": [
        "xs.unique().sort().values, ys.unique().sort().values"
      ],
      "metadata": {
        "colab": {
          "base_uri": "https://localhost:8080/",
          "height": 0
        },
        "id": "PeBfjO2pb5eG",
        "outputId": "745c6952-e8c2-48c4-a264-aedec2cc66d0"
      },
      "execution_count": 69,
      "outputs": [
        {
          "output_type": "execute_result",
          "data": {
            "text/plain": [
              "(tensor([ 654, 1868, 3043, 3568, 3623, 3937, 4013, 4724, 5566, 5787]),\n",
              " tensor([ 228,  315,  366, 1132, 1186, 2040, 2298, 2614, 3036, 3179]))"
            ]
          },
          "metadata": {},
          "execution_count": 69
        }
      ]
    },
    {
      "cell_type": "code",
      "source": [
        "movie_feats, user_feats = processed_data[0][\"movie\"][\"x\"], processed_data[0][\"user\"][\"x\"]\n",
        "subsample_movie_feats = movie_feats[subsample_edges[:,1], :]\n",
        "subsample_user_feats = user_feats[subsample_edges[:,0], :]\n",
        "subsample_user_movie_feats = torch.cat([subsample_movie_feats, subsample_user_feats], dim=1)"
      ],
      "metadata": {
        "id": "V_nqxsQoVucZ"
      },
      "execution_count": 70,
      "outputs": []
    },
    {
      "cell_type": "code",
      "source": [
        "torch.cat([subsample_movie_feats, subsample_user_feats], dim=1).shape"
      ],
      "metadata": {
        "colab": {
          "base_uri": "https://localhost:8080/"
        },
        "id": "lrMJ0XR5WYQ2",
        "outputId": "50f4baf1-c230-41a0-cb8c-fc6c5486f572"
      },
      "execution_count": 83,
      "outputs": [
        {
          "output_type": "execute_result",
          "data": {
            "text/plain": [
              "torch.Size([36, 48])"
            ]
          },
          "metadata": {},
          "execution_count": 83
        }
      ]
    },
    {
      "cell_type": "code",
      "source": [
        "movie_feats[ys.unique().sort().values, :].shape, user_feats[xs.unique().sort().values, :].shape"
      ],
      "metadata": {
        "colab": {
          "base_uri": "https://localhost:8080/"
        },
        "id": "nBBu5PIGQ9aO",
        "outputId": "752054f9-d510-439e-899d-b6af82c818f2"
      },
      "execution_count": 86,
      "outputs": [
        {
          "output_type": "execute_result",
          "data": {
            "text/plain": [
              "(torch.Size([10, 18]), torch.Size([10, 30]))"
            ]
          },
          "metadata": {},
          "execution_count": 86
        }
      ]
    },
    {
      "cell_type": "code",
      "source": [
        "broadcasted_movie_feats, broadcasted_user_feats = (\n",
        "    torch.broadcast_to(movie_feats[ys.unique().sort().values, :].reshape((18,1,10)), (18,10,10)),\n",
        "    torch.broadcast_to(user_feats[xs.unique().sort().values, :].reshape((30,10,1)), (30,10,10))\n",
        ")\n",
        "feature_tensor = torch.cat([broadcasted_movie_feats, broadcasted_user_feats], dim=0)"
      ],
      "metadata": {
        "id": "D9vtDYkscMiM"
      },
      "execution_count": 84,
      "outputs": []
    },
    {
      "cell_type": "code",
      "source": [
        "rating_matrix = torch.Tensor(pd.DataFrame(subsample_edges).pivot(columns=[1], index=[0]).fillna(3).to_numpy())\n",
        "batch = torch.cat([rating_matrix.reshape((1,10,10)), feature_tensor], dim=0)\n",
        "batch.shape"
      ],
      "metadata": {
        "colab": {
          "base_uri": "https://localhost:8080/",
          "height": 0
        },
        "id": "FFbBDYiHWCjF",
        "outputId": "9532b4d6-267b-4e76-f8e5-068ca48d326e"
      },
      "execution_count": 73,
      "outputs": [
        {
          "output_type": "execute_result",
          "data": {
            "text/plain": [
              "torch.Size([49, 10, 10])"
            ]
          },
          "metadata": {},
          "execution_count": 73
        }
      ]
    },
    {
      "cell_type": "code",
      "source": [
        "! pip install torch_geometric\n",
        "! pip install sentence_transformers\n",
        "\n",
        "import torch\n",
        "import numpy as np\n",
        "import pandas as pd\n",
        "from torch.utils.data import Dataset\n",
        "from torch_geometric.datasets import MovieLens1M\n",
        "from sklearn.preprocessing import QuantileTransformer\n",
        "\n",
        "class RatingQuantileTransform(object):\n",
        "    def __init__(self):\n",
        "        self.qt_transformer = QuantileTransformer(n_quantiles=5, output_distribution=\"normal\")\n",
        "\n",
        "    def __call__(self, data):\n",
        "        ratings = data[2,:]\n",
        "        data[2,:] = torch.Tensor(self.qt_transformer.fit_transform(ratings.reshape(-1, 1))).T\n",
        "        return data\n",
        "\n",
        "class ProcessedMovieLens(Dataset):\n",
        "    PROCESSED_ML_SUBPATH = \"/processed/data.pt\"\n",
        "\n",
        "    def __init__(self, root, dataset_transform=None, transform=None, download=True):\n",
        "        if download:\n",
        "            ml_1m = MovieLens1M(root)\n",
        "            ml_1m.process()\n",
        "\n",
        "        self.transform = transform\n",
        "        self.dataset_transform = dataset_transform\n",
        "        print(root + self.PROCESSED_ML_SUBPATH)\n",
        "        self.processed_data = torch.load(root + self.PROCESSED_ML_SUBPATH)\n",
        "        self.processed_ratings = self._preprocess_ratings(self.processed_data)\n",
        "\n",
        "    def _preprocess_ratings(self, data):\n",
        "        edges = data[0][('user','rates','movie')]\n",
        "        edge_ratings = torch.concatenate([edges[\"edge_index\"], edges[\"rating\"].reshape((1,-1))])\n",
        "        return self.dataset_transform(edge_ratings)\n",
        "\n",
        "    def get_item(self, n_unique=10):\n",
        "        edge_ratings = self.processed_ratings\n",
        "        movie_feats, user_feats = self.processed_data[0][\"movie\"][\"x\"], self.processed_data[0][\"user\"][\"x\"]\n",
        "\n",
        "        _, edge_size = edge_ratings.shape\n",
        "        indices = torch.randint(0, edge_size, (n_unique,))\n",
        "        sampled_edges = torch.ones((1,1))\n",
        "        while len(sampled_edges[0, :].unique()) < n_unique or len(sampled_edges[1, :].unique()) < n_unique:\n",
        "            indices = torch.randint(0, edge_size, (n_unique,))\n",
        "            sampled_edges = edge_ratings[:, indices]\n",
        "\n",
        "        xs = edge_ratings[0, indices]\n",
        "        ys = edge_ratings[1, indices]\n",
        "\n",
        "        indices_xs = torch.where(torch.isin(edge_ratings[0,:], xs))[0]\n",
        "        indices_ys = torch.where(torch.isin(edge_ratings[1,:], ys))[0]\n",
        "        subsample_edges = edge_ratings[:, np.intersect1d(indices_xs, indices_ys)].T\n",
        "\n",
        "        subsample_movie_feats = movie_feats[subsample_edges[:,1], :]\n",
        "        subsample_user_feats = user_feats[subsample_edges[:,0], :]\n",
        "        subsample_user_movie_feats = torch.cat([subsample_movie_feats, subsample_user_feats], dim=1)\n",
        "\n",
        "        broadcasted_movie_feats, broadcasted_user_feats = (\n",
        "            torch.broadcast_to(movie_feats[ys.unique().sort().values, :].reshape((18,1,n_unique)), (18,n_unique,n_unique)),\n",
        "            torch.broadcast_to(user_feats[xs.unique().sort().values, :].reshape((30,n_unique,1)), (30,n_unique,n_unique))\n",
        "        )\n",
        "\n",
        "        rating_matrix = torch.Tensor(pd.DataFrame(subsample_edges).pivot(columns=[1], index=[0]).fillna(3).to_numpy())\n",
        "        item = torch.cat([rating_matrix.reshape((1,n_unique,n_unique)), broadcasted_movie_feats, broadcasted_user_feats], dim=0)\n",
        "\n",
        "        return item"
      ],
      "metadata": {
        "id": "XVE8t6bE7OCp"
      },
      "execution_count": 143,
      "outputs": []
    },
    {
      "cell_type": "code",
      "source": [
        "processed_movie_lens = ProcessedMovieLens(\"/content/movie_lens\", RatingQuantileTransform(), download=False)"
      ],
      "metadata": {
        "colab": {
          "base_uri": "https://localhost:8080/"
        },
        "id": "6wVtLaJQRe7h",
        "outputId": "a9959b38-182b-48a6-b70d-4474d13ee123"
      },
      "execution_count": 126,
      "outputs": [
        {
          "output_type": "stream",
          "name": "stdout",
          "text": [
            "/content/movie_lens/processed/data.pt\n",
            "tensor([[   0,    0,    0,  ..., 6039, 6039, 6039],\n",
            "        [1176,  655,  902,  ...,  558, 1080, 1081],\n",
            "        [   5,    0,    0,  ...,    5,    0,    0]])\n"
          ]
        }
      ]
    }
  ]
}